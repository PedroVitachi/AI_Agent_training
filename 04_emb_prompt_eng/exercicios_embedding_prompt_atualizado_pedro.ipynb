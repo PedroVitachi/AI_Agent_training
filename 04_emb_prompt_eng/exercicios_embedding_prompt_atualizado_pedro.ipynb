{
 "cells": [
  {
   "cell_type": "markdown",
   "id": "1a2b88ce",
   "metadata": {},
   "source": [
    "# Exercícios de Embedding e Engenharia de Prompt\n",
    "\n",
    "Bem-vindo a este notebook onde você explorará dois conceitos críticos em NLP moderna:\n",
    "\n",
    "1. **Embeddings de Palavras**: Como palavras e sequências são representadas em espaços vetoriais densos.\n",
    "2. **Engenharia de Prompt**: Como projetar prompts efetivos para melhorar o desempenho de Modelos de Linguagem de Grande Escala (LLMs).\n",
    "\n",
    "Vamos começar!\n",
    "\n",
    "---"
   ]
  },
  {
   "cell_type": "markdown",
   "id": "a2bd0b11",
   "metadata": {},
   "source": [
    "## **Seção 1: Exercícios de Embedding de Palavras**"
   ]
  },
  {
   "cell_type": "markdown",
   "id": "7c9eca39",
   "metadata": {},
   "source": [
    "### **Exercício 1: Teórico - Entendendo Embeddings de Palavras**\n",
    "\n",
    "**Objetivo:** Explicar o conceito de embeddings de palavras.\n",
    "\n",
    "**Instruções:**\n",
    "\n",
    "- Descreva o que é um embedding de palavra e como ele difere de métodos tradicionais como codificação one-hot.\n",
    "- Discuta as vantagens de usar embeddings.\n",
    "- Explique como a similaridade cosseno é usada para comparar embeddings.\n",
    "\n",
    "➡️ **Escreva sua resposta abaixo em uma célula markdown.**"
   ]
  },
  {
   "cell_type": "markdown",
   "id": "4ee5ef3a",
   "metadata": {},
   "source": [
    "O embedding seria uma maneira de tratar uma palavra não como uma série de booleanos como é feito no one-hot, e sim vetorizando partes da frase, guardando em matrizes com o intuito de realizar operações para manipular esses dados. Uma das vantagens está na comparação e cálculo desses vetores, permitindo também trabalhar com essa informação através de formulas como a similaridade cosseno que consegue medir a angulação entre esses vetores, conseguindo entender palavras que tem relações em si, trazendo um pouco do contexto dela."
   ]
  },
  {
   "cell_type": "markdown",
   "id": "f68eaf94",
   "metadata": {},
   "source": [
    "### **Exercício 2: Prático - Usando Word2Vec para Calcular Similaridades**\n",
    "\n",
    "**Objetivo:** Treinar um modelo Word2Vec e explorar similaridades entre palavras.\n",
    "\n",
    "**Instruções:**\n",
    "\n",
    "- Use `gensim` para treinar um modelo Word2Vec em um pequeno corpus de texto à sua escolha.\n",
    "- Selecione pelo menos 3 pares de palavras e calcule a similaridade cosseno entre elas usando o modelo treinado.\n",
    "- Visualize os embeddings usando PCA ou t-SNE em um espaço 2D.\n",
    "\n",
    "➡️ **Use a célula de código abaixo para realizar as tarefas.**"
   ]
  },
  {
   "cell_type": "code",
   "execution_count": null,
   "id": "54b6bafb",
   "metadata": {},
   "outputs": [],
   "source": [
    "%pip install gensim\n",
    "from gensim.models import Word2Vec\n",
    "from gensim.utils import simple_preprocess"
   ]
  },
  {
   "cell_type": "code",
   "execution_count": null,
   "id": "4c6f4e7e",
   "metadata": {},
   "outputs": [],
   "source": [
    "import matplotlib.pyplot as plt\n",
    "from sklearn.decomposition import PCA"
   ]
  },
  {
   "cell_type": "markdown",
   "id": "306315d9",
   "metadata": {},
   "source": [
    "### **Exercício 3: Prático - Aritmética Vetorial com Embeddings**\n",
    "\n",
    "**Objetivo:** Demonstrar operações vetoriais com embeddings.\n",
    "\n",
    "**Instruções:**\n",
    "\n",
    "- Realize operações vetoriais como: `rei - homem + mulher = ?`.\n",
    "- Use `most_similar()` para encontrar qual palavra está mais próxima do vetor resultante.\n",
    "- Reflita sobre o que isso revela sobre a estrutura do espaço de embedding.\n",
    "\n",
    "➡️ **Use a célula de código abaixo para este experimento.**"
   ]
  },
  {
   "cell_type": "code",
   "execution_count": null,
   "id": "08860df0",
   "metadata": {},
   "outputs": [],
   "source": [
    "# Realize operações vetoriais usando o modelo Word2Vec treinado\n",
    "# Exemplo: model.wv.most_similar(positive=['rei', 'mulher'], negative=['homem'])"
   ]
  },
  {
   "cell_type": "markdown",
   "id": "c0f2c802",
   "metadata": {},
   "source": [
    "### **Exercício 4: Teórico - Codificação Posicional em Transformers**\n",
    "\n",
    "**Objetivo:** Entender a importância da codificação posicional e suas implicações nos modelos de linguagem.\n",
    "\n",
    "**Instruções:**\n",
    "\n",
    "1. Explique por que a codificação posicional é necessária em Transformers.\n",
    "2. Descreva a diferença entre codificações posicionais fixas (baseadas em funções seno e cosseno) e codificações aprendidas.\n",
    "3. Como a codificação posicional interage com o mecanismo de atenção nos Transformers?\n",
    "\n",
    "➡️ **Escreva suas respostas em células markdown.**"
   ]
  },
  {
   "cell_type": "markdown",
   "id": "ab23915f",
   "metadata": {},
   "source": [
    "Os transformers não possuem nenhum tipo de tratamento para levar em conta a posição das palavras em uma frase, não tendo como levar em conta o contexto e significado de cada palavra ou ser escrita de maneira diferente em outras posições, por isso a codificação posicional é utilizada, aplicada sobre os tokens explicados anteriormente para que seja possível tratar esse cenário. A maior diferença entre as codificações posicionais fixas e aprendidas se encontra em como elas são aplicadas, na fixa, funções matemáticas de seno e cosseno são aplicadas nos tokens, gerando sempre o mesmo resultado para os cálculos realizados, já a aprendida é aplicada durante o treinamento do modelo, sendo um dos parametros utilizados no treinamento.\n",
    "\n",
    "O mecanismo de atenção realiza cálculos usando a similaridade entre os tokens, porém também não leva em conta o posicionamento deles, o jeito que a codificação posicional interage com o mecanismo é através de um peso aplicado junto a cada token, levando em conta a posição junto as similaridades em si."
   ]
  },
  {
   "cell_type": "markdown",
   "id": "e3a6932a",
   "metadata": {},
   "source": [
    "### **Exercício 5: Prático - Usando Embeddings Pré-Treinados para Similaridade de Sentenças**\n",
    "\n",
    "**Objetivo:** Aplicar embeddings pré-treinados para calcular similaridade entre sentenças.\n",
    "\n",
    "**Instruções:**\n",
    "\n",
    "- Carregue embeddings pré-treinados (ex: GloVe, FastText).\n",
    "- Crie uma função para calcular embeddings de sentenças, fazendo a média dos embeddings das palavras.\n",
    "- Escolha ao menos dois pares de sentenças: um par semanticamente similar e outro não.\n",
    "- Calcule e compare as similaridades cosseno entre os pares.\n",
    "\n",
    "➡️ **Use a célula de código abaixo para esta tarefa.**"
   ]
  },
  {
   "cell_type": "code",
   "execution_count": null,
   "id": "f56bd77e",
   "metadata": {},
   "outputs": [],
   "source": [
    "# Carregue embeddings pré-treinados\n",
    "\n",
    "# Defina uma função para calcular embeddings de sentenças\n",
    "\n",
    "# Escolha pares de sentenças e calcule similaridades"
   ]
  },
  {
   "cell_type": "markdown",
   "id": "717433ef",
   "metadata": {},
   "source": [
    "## **Seção 2: Exercícios de Engenharia de Prompt**"
   ]
  },
  {
   "cell_type": "code",
   "execution_count": null,
   "id": "32f4383e",
   "metadata": {},
   "outputs": [],
   "source": [
    "# --- Apenas rode essa célula\n",
    "%pip install groq"
   ]
  },
  {
   "cell_type": "code",
   "execution_count": 10,
   "id": "8614ee98",
   "metadata": {},
   "outputs": [],
   "source": [
    "# código para chamada no modelo.\n",
    "# Apenas execute esta célula\n",
    "from groq import Groq\n",
    "\n",
    "client = Groq(api_key=\"")\n",
    "\n",
    "# --- Função para chamada ao modelo ---\n",
    "def call(text: str) -> str:\n",
    "    \"\"\"Wrapper function for model calling\"\"\"\n",
    "    try:\n",
    "        completion = client.chat.completions.create(\n",
    "            model=\"llama-3.1-8b-instant\",\n",
    "            messages=[\n",
    "            {\n",
    "                \"role\": \"user\",\n",
    "                \"content\": text,\n",
    "            }\n",
    "            ],\n",
    "            temperature=1,\n",
    "            max_completion_tokens=1024,\n",
    "            top_p=1,\n",
    "            stream=False,\n",
    "            stop=None,\n",
    "        )\n",
    "        return completion.choices[0].message.content\n",
    "    \n",
    "    except Exception as e:\n",
    "        print(f\"Erro na chamada para o modelo: {e}\")\n",
    "        raise\n"
   ]
  },
  {
   "cell_type": "markdown",
   "id": "97146bc7",
   "metadata": {},
   "source": [
    "Execute esta célula para testar se a integração com o Groq está funcionando. Use a função ``call()`` para os exercícios de prompt engineering."
   ]
  },
  {
   "cell_type": "code",
   "execution_count": 11,
   "id": "ccae279c",
   "metadata": {},
   "outputs": [
    {
     "data": {
      "text/plain": [
       "'Um homem entrou em um bar com uma cobra no ombro. Ele colocou um peso sobre a cobra e disse ao bartender: \"Vou pagar por uma cerveja se ela sair.\"'"
      ]
     },
     "execution_count": 11,
     "metadata": {},
     "output_type": "execute_result"
    }
   ],
   "source": [
    "call(\"Me conte uma piada\")"
   ]
  },
  {
   "cell_type": "markdown",
   "id": "1bcbfdd1",
   "metadata": {},
   "source": [
    "### **Exercício 1: Teórico - Introdução à Engenharia de Prompt**\n",
    "\n",
    "**Objetivo:** Entender o conceito e técnicas de engenharia de prompt.\n",
    "\n",
    "**Instruções:**\n",
    "\n",
    "- Defina engenharia de prompt com suas próprias palavras.\n",
    "- Explique por que engenharia de prompt é crítica ao trabalhar com LLMs.\n",
    "- Liste e descreva brevemente pelo menos três técnicas: zero-shot, few-shot, chain-of-thought.\n",
    "\n",
    "➡️ **Escreva sua explicação abaixo em uma célula markdown.**"
   ]
  },
  {
   "cell_type": "markdown",
   "id": "9b6d914e",
   "metadata": {},
   "source": [
    "Engenharia de prompt seria uma prática para escrever instruções para interagir com LLMs, basicamente, dependendo do input vindo desse prompt, o modelo irá agir de formas diferentes, e a engenharia trata em qual a melhor forma para usar o prompt correto para cada situação.\n",
    "\n",
    "As técnicas mais comuns na engenharia de prompt são: zero-shot, few-shot e chain-of-thought.\n",
    "\n",
    "Zero shot: Seria somente a instrução, algo simples e curto buscando obter uma resposta rápida, um exemplo seria: \"quanto é 2+2?\"\n",
    "\n",
    "Few-shot: Agora o modelo é exposto à formatações e mais instruções prévias, e a intenção é que ele gere uma resposta seguindo este modelo, um exemplo seria: \"1+1 = 2\", em um próximo prompt \"2+2 = 4\", e finalmente num terceiro prompt poderiamos pedir para o modelo continuar com o próximo cálculo nessa linha de pensamento.\n",
    "\n",
    "Chain-of-thought: O prompt é feito inserindo um contexto maior, passando mais intruções de maneira mais completa, um exemplo seria algo no tipo: \"sai mais cedo e comprei 4 ovos, 2 sacos de pão e uma coca cola de 2 litros, cada ovo custa 1 real, cada saco de pão custa 4 e a coca custa 10, quanto ficou o total?\".\n"
   ]
  },
  {
   "cell_type": "markdown",
   "id": "5d8e6fe3",
   "metadata": {},
   "source": [
    "### **Exercício 2: Prático - Zero-Shot Prompting**\n",
    "\n",
    "**Objetivo:** Explorar o zero-shot prompting.\n",
    "\n",
    "**Instruções:**\n",
    "\n",
    "Apresente ao modelo a seguinte sequência:\n",
    "\n",
    "```makefile\n",
    "Grass: Green  \n",
    "Sky: Blue  \n",
    "Sunflower: Yellow  \n",
    "```\n",
    "\n",
    "Agora peça:\n",
    "\"Continue a sequência com: Apple: ?\"\n",
    "\n",
    "Observe se o modelo associa corretamente o padrão de objeto-cor.\n",
    "Se ele falhar, explique como reformular o prompt para que ele compreenda melhor o padrão.\n",
    "\n",
    "➡️ **Use a célula de código abaixo para enviar seu prompt e observar a saída.**"
   ]
  },
  {
   "cell_type": "code",
   "execution_count": null,
   "id": "f3b2146f",
   "metadata": {},
   "outputs": [
    {
     "data": {
      "text/plain": [
       "'A sequência parece estar relacionada a cores associadas a cada objeto ou língua natural. Se continuarmos com essa sequência, provavelmente teremos:\\n\\nApple: Vermelho\\n\\nVerifica-se que as cores associadas aos objetos são: Verão (grande parte do mundo), sol quente (Sky e Sunflower) e frutas maduros (Apple)'"
      ]
     },
     "execution_count": 16,
     "metadata": {},
     "output_type": "execute_result"
    }
   ],
   "source": [
    "# Envie um prompt zero-shot para o modelo\n",
    "call(\"Grass: Green, Sky: Blue, Sunflower: Yellow, Continue a sequência com: Apple:\")"
   ]
  },
  {
   "cell_type": "markdown",
   "id": "c75daf4f",
   "metadata": {},
   "source": [
    "### **Exercício 3: Prático - Few-Shot Prompting**\n",
    "\n",
    "**Objetivo:** Explorar o few-shot prompting.\n",
    "\n",
    "**Instruções:**\n",
    "\n",
    "- Forneça ao modelo alguns exemplos antes de pedir que realize a tarefa.\n",
    "- Apresente ao modelo:\n",
    "\n",
    "```makefile\n",
    "Apple: Purple  \n",
    "Banana: Purple  \n",
    "Lemon: Blue\n",
    "Elephant: Grey  \n",
    "```\n",
    "\n",
    "Neste caso, usaremos ``Purple`` para todas as frutas doces, ``Blue`` para todas as demais frutas e ``Grey`` para todos os animais.\n",
    "\n",
    "Faça um experiento pedindo ao modelo para classificar ``Tiger``, ``Tomato`` e ``Strawberry``. Veja o resultado. Tente depois fornecer um Few-Shot prompting para tentar formatar a resposta.\n",
    "\n",
    "➡️ **Use a célula de código abaixo para construir e enviar seu prompt few-shot.**"
   ]
  },
  {
   "cell_type": "code",
   "execution_count": 17,
   "id": "26cd6be2",
   "metadata": {},
   "outputs": [
    {
     "data": {
      "text/plain": [
       "'Com base na classificação existente, parece não haver uma relação direta entre os objetos e suas respectivas cores. No entanto, posso tentar inferir uma possível conexão:\\n\\n- Apple e Banana são ambos frutas, e Banana é geralmente considerado uma cor por fora um amarelo mas por dentro um arrozado mas então por ser similar ao apple, e então eles são Purple.\\n- Lemon não segue essa lógica, então pode ser que não haja relação entre os objetos e as cores.\\n- Elephant é um animal, e ele está classificado como Grey.\\n\\nCom essas informações, posso tentar classificar as novas palavras:\\n\\n- Tiger é um animal, e como o Elephant já está classificado como Grey, pode ser que os animais sejam classificados como Grey.\\n- Tomato é uma fruta (basicamente), então pode ser considerado Purple, como Apple e Banana.\\n- Strawberry é uma fruta, e como o padrão de classificação parece estar relacionado a frutas e animais, pode ser classificada como Purple, assim como as frutas listadas anteriormente.\\n\\nPortanto, aqui estão minhas sugestões de classificação:\\n\\n- Tiger: Grey\\n- Tomato: Purple\\n- Strawberry: Purple\\n\\nLembre-se de que isso é apenas uma suposição e não há nenhuma regra clara definida.'"
      ]
     },
     "execution_count": 17,
     "metadata": {},
     "output_type": "execute_result"
    }
   ],
   "source": [
    "# Envie um prompt few-shot para o modelo\n",
    "# Exemplo: tarefa de tradução com alguns exemplos\n",
    "call(\"Tenho a seguinte classificação: Apple: Purple, Banana: Purple, Lemon: Blue, Elephant: Grey. poderia classificar as palavras ``Tiger``, ``Tomato`` e ``Strawberry``\")"
   ]
  },
  {
   "cell_type": "markdown",
   "id": "32a17370",
   "metadata": {},
   "source": [
    "### **Exercício 4: Prático - Chain-of-Thought Prompting**\n",
    "\n",
    "**Objetivo:** Testar o chain-of-thought (CoT) prompting para melhorar o raciocínio.\n",
    "\n",
    "**Instruções:**\n",
    "\n",
    "- Repita o experimento anterior utilizando o Chain-of-Thought.\n",
    "- O resultado esperado ficou melhor ou pior? Por que?\n",
    "\n",
    "➡️ **Use a célula de código abaixo para enviar ambos os prompts e comparar os resultados.**"
   ]
  },
  {
   "cell_type": "code",
   "execution_count": null,
   "id": "478dfde1",
   "metadata": {},
   "outputs": [
    {
     "data": {
      "text/plain": [
       "'Com base na classificação fornecida, parece que não há uma correlação direta entre o nome das frutas e a cor. No entanto, é possívelnotar que as frutas têm uma cor associada:\\n\\n- Apple e Banana são ligados a uma cor específica que no seu caso é \"Purple\", mas normalmente é \"Red\" para a apple e Cor Amarela para banana.\\n- Lemon é associado a \"Blue\", que também não é a cor típica desse fruto (cor verde-azulada).\\n- A classificação para Elephant não relaciona ao nome do seu ex-presidente Thomas e outros para tomate, o que normalmente seriam vermelhos (completamente o tomate) e cor: vermelha para o tomate e para a ingle chamado de tigre: Verde e a partir de \"tomato\": vermelho., se refletem  respectivamente na cor comum desse animal (gris-escuro).\\n\\nConsiderando as cores típicas de cada um dos termos a serem classificados:\\n\\n- Tiger: geralmente verde-claro\\n- Tomato: vermelho\\n- Strawberry: vermelha\\n\\nAqui estão as sugestões de classificação baseadas nas cores típicas de cada um dos termos:\\n\\n- Tiger: Verde\\n- Tomato: Vermelho\\n- Strawberry: Vermelha'"
      ]
     },
     "execution_count": 18,
     "metadata": {},
     "output_type": "execute_result"
    }
   ],
   "source": [
    "# Envie um prompt direto para resolver um problema de múltiplas etapas\n",
    "call(\"Tenho a seguinte classificação: Apple: Purple, Banana: Purple, Lemon: Blue, Elephant: Grey. poderia classificar as palavras ``Tiger``, ``Tomato`` e ``Strawberry``\")"
   ]
  },
  {
   "cell_type": "code",
   "execution_count": 19,
   "id": "36b5d012",
   "metadata": {},
   "outputs": [
    {
     "data": {
      "text/plain": [
       "'Para realizar a classificação das palavras dadas, você precisa aplicar a lógica que foi estabelecida:\\n\\n- \"Purple\" para todas as frutas doces,\\n- \"Blue\" para todas as demais frutas, e\\n- \"Grey\" para todos os animais.\\n\\nAqui estão as classificações para as palavras dadas:\\n\\n- \"Tiger\": Tiger é um animal, portanto a classificação é \"Grey\".\\n- \"Tomato\": Tomate é uma fruta doce (embora não seja uma fruta típica), portanto a classificação é \"Purple\".\\n- \"Strawberry\": Morango é uma fruta doce, portanto a classificação é \"Purple\".\\n\\nPortanto, as classificações são:\\n\\n- Tiger: Grey\\n- Tomato: Purple\\n- Strawberry: Purple'"
      ]
     },
     "execution_count": 19,
     "metadata": {},
     "output_type": "execute_result"
    }
   ],
   "source": [
    "# Envie o mesmo prompt com CoT: \"Vamos pensar passo a passo...\"\n",
    "call(\"Tenho a seguinte classificação: Apple: Purple, Banana: Purple, Lemon: Blue, Elephant: Grey. Usaremos ``Purple`` para todas as frutas doces, ``Blue`` para todas as demais frutas e ``Grey`` para todos os animais., segiundo essa lógica, poderia classificar as palavras ``Tiger``, ``Tomato`` e ``Strawberry``?\")"
   ]
  },
  {
   "cell_type": "markdown",
   "id": "1ceb7779",
   "metadata": {},
   "source": [
    "### **Exercício 5: Valence, Arousal, Emotion, Intensity**\n",
    "\n",
    "**Objetivo:** Controlar a saída do modelo para uma tarefa específica.\n",
    "\n",
    "**Instruções:**\n",
    "\n",
    "- Construa um prompt que permita o modelo classificar um texto segundo sua Valência, Excitação (Arousal), Emoção e Intensidade. A saída do modelo deverá ser apenas um JSON.\n",
    "- A resposta deve ser neste formato:\n",
    "  \n",
    "```makefile\n",
    "{\n",
    "    \"emotion\": \"[nome da emoção]\",\n",
    "    \"valence\": \"Positive\" ou \"Negative\",\n",
    "    \"arousal\": \"High\" ou \"Low\",\n",
    "    \"intensity\": número entre 0 e 1\n",
    "}\n",
    "```\n",
    "\n",
    "Avalie seu prompt nas seguintes frases:\n",
    "\n",
    "1. \"Apesar de tudo, sinto uma mistura de esperança e preocupação pelo futuro.\"  \n",
    "2. \"Eu ri, mas no fundo algo me incomodava durante a conversa.\"  \n",
    "3. \"O silêncio na sala me deixou inquieto, mas também aliviado.\"  \n",
    "4. \"Senti uma onda de tristeza que logo se transformou em determinação.\"  \n",
    "5. \"Estou exausto, mas feliz por ter conseguido terminar o projeto.\"  \n",
    "6. \"Minha mente está cheia de pensamentos confusos, mas uma pequena faísca de otimismo permanece.\"  \n",
    "7. \"A nostalgia tomou conta de mim, trazendo um sorriso melancólico.\"  \n",
    "8. \"Fiquei irritado no momento, mas agora vejo que foi uma reação exagerada.\"  \n",
    "9. \"O medo me paralisou, porém, uma curiosidade estranha me fez continuar.\"  \n",
    "10. \"Há uma calma tensa no ar, como se algo estivesse prestes a acontecer.\"\n",
    "\n",
    "➡️ **Use a célula de código abaixo para seus experimentos e resuma suas conclusões em uma célula markdown.**"
   ]
  },
  {
   "cell_type": "code",
   "execution_count": 21,
   "id": "2c20da60",
   "metadata": {},
   "outputs": [
    {
     "name": "stdout",
     "output_type": "stream",
     "text": [
      "Aqui estão as classificações para cada texto:\n",
      "\n",
      "```json\n",
      "[\n",
      "  {\n",
      "    \"emotion\": \"ambivalência\",\n",
      "    \"valence\": \"Neutral\",\n",
      "    \"arousal\": \"Low\",\n",
      "    \"intensity\": 0.6\n",
      "  },\n",
      "  {\n",
      "    \"emotion\": \"inquietação\",\n",
      "    \"valence\": \"Neutral\",\n",
      "    \"arousal\": \"High\",\n",
      "    \"intensity\": 0.8\n",
      "  },\n",
      "  {\n",
      "    \"emotion\": \"inquietação\",\n",
      "    \"valence\": \"Negative\",\n",
      "    \"arousal\": \"High\",\n",
      "    \"intensity\": 0.4\n",
      "  },\n",
      "  {\n",
      "    \"emotion\": \"tristeza\",\n",
      "    \"valence\": \"Negative\",\n",
      "    \"arousal\": \"Low\",\n",
      "    \"intensity\": 0.7\n",
      "  },\n",
      "  {\n",
      "    \"emotion\": \"felicidade\",\n",
      "    \"valence\": \"Positive\",\n",
      "    \"arousal\": \"Low\",\n",
      "    \"intensity\": 0.9\n",
      "  },\n",
      "  {\n",
      "    \"emotion\": \"confusão\",\n",
      "    \"valence\": \"Negative\",\n",
      "    \"arousal\": \"High\",\n",
      "    \"intensity\": 0.8\n",
      "  },\n",
      "  {\n",
      "    \"emotion\": \"nóstalgia\",\n",
      "    \"valence\": \"Negative\",\n",
      "    \"arousal\": \"Low\",\n",
      "    \"intensity\": 0.4\n",
      "  },\n",
      "  {\n",
      "    \"emotion\": \"irritabilidade\",\n",
      "    \"valence\": \"Negative\",\n",
      "    \"arousal\": \"High\",\n",
      "    \"intensity\": 0.6\n",
      "  },\n",
      "  {\n",
      "    \"emotion\": \"medo\",\n",
      "    \"valence\": \"Negative\",\n",
      "    \"arousal\": \"High\",\n",
      "    \"intensity\": 0.7\n",
      "  },\n",
      "  {\n",
      "    \"emotion\": \"tensão\",\n",
      "    \"valence\": \"Neutral\",\n",
      "    \"arousal\": \"High\",\n",
      "    \"intensity\": 0.8\n",
      "  }\n",
      "]\n",
      "```\n"
     ]
    }
   ],
   "source": [
    "# Seu código aqui\n",
    "prompt = '''\n",
    "Classifique o seguinte texto de acordo com as dimensões emocionais a seguir:\n",
    "\n",
    "- \"valence\": deve ser \"Positive\" ou \"Negative\"\n",
    "- \"arousal\": deve ser \"High\" ou \"Low\"\n",
    "- \"emotion\": uma única palavra representando a emoção dominante\n",
    "- \"intensity\": um número entre 0 e 1 representando a intensidade emocional sentida no texto\n",
    "\n",
    "A resposta deve ser estritamente no seguinte formato JSON (sem explicações ou texto adicional):\n",
    "\n",
    "{\n",
    "    \"emotion\": \"[nome da emoção]\",\n",
    "    \"valence\": \"Positive\" ou \"Negative\",\n",
    "    \"arousal\": \"High\" ou \"Low\",\n",
    "    \"intensity\": número entre 0 e 1\n",
    "}\n",
    "\n",
    "Texto para classificar:\n",
    "1. \"Apesar de tudo, sinto uma mistura de esperança e preocupação pelo futuro.\"  \n",
    "2. \"Eu ri, mas no fundo algo me incomodava durante a conversa.\"  \n",
    "3. \"O silêncio na sala me deixou inquieto, mas também aliviado.\"  \n",
    "4. \"Senti uma onda de tristeza que logo se transformou em determinação.\"  \n",
    "5. \"Estou exausto, mas feliz por ter conseguido terminar o projeto.\"  \n",
    "6. \"Minha mente está cheia de pensamentos confusos, mas uma pequena faísca de otimismo permanece.\"  \n",
    "7. \"A nostalgia tomou conta de mim, trazendo um sorriso melancólico.\"  \n",
    "8. \"Fiquei irritado no momento, mas agora vejo que foi uma reação exagerada.\"  \n",
    "9. \"O medo me paralisou, porém, uma curiosidade estranha me fez continuar.\"  \n",
    "10. \"Há uma calma tensa no ar, como se algo estivesse prestes a acontecer.\"\n",
    "'''\n",
    "\n",
    "resposta = call(prompt)\n",
    "print(resposta)"
   ]
  }
 ],
 "metadata": {
  "kernelspec": {
   "display_name": ".venv",
   "language": "python",
   "name": "python3"
  },
  "language_info": {
   "codemirror_mode": {
    "name": "ipython",
    "version": 3
   },
   "file_extension": ".py",
   "mimetype": "text/x-python",
   "name": "python",
   "nbconvert_exporter": "python",
   "pygments_lexer": "ipython3",
   "version": "3.13.3"
  }
 },
 "nbformat": 4,
 "nbformat_minor": 5
}
